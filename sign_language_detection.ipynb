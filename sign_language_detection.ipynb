{
 "cells": [
  {
   "cell_type": "markdown",
   "metadata": {},
   "source": [
    "# Sign Language Detection\n",
    "\n",
    "This notebook demonstrates the usage of our sign language detection system."
   ]
  },
  {
   "cell_type": "code",
   "execution_count": 1,
   "metadata": {},
   "outputs": [
    {
     "name": "stderr",
     "output_type": "stream",
     "text": [
      "2025-02-17 10:01:39.621579: E external/local_xla/xla/stream_executor/cuda/cuda_fft.cc:477] Unable to register cuFFT factory: Attempting to register factory for plugin cuFFT when one has already been registered\n",
      "WARNING: All log messages before absl::InitializeLog() is called are written to STDERR\n",
      "E0000 00:00:1739768499.867545    8638 cuda_dnn.cc:8310] Unable to register cuDNN factory: Attempting to register factory for plugin cuDNN when one has already been registered\n",
      "E0000 00:00:1739768499.936136    8638 cuda_blas.cc:1418] Unable to register cuBLAS factory: Attempting to register factory for plugin cuBLAS when one has already been registered\n",
      "2025-02-17 10:01:40.462946: I tensorflow/core/platform/cpu_feature_guard.cc:210] This TensorFlow binary is optimized to use available CPU instructions in performance-critical operations.\n",
      "To enable the following instructions: AVX2 FMA, in other operations, rebuild TensorFlow with the appropriate compiler flags.\n"
     ]
    }
   ],
   "source": [
    "import torch\n",
    "import numpy as np\n",
    "import matplotlib.pyplot as plt\n",
    "import seaborn as sns\n",
    "import pandas as pd\n",
    "import json\n",
    "from pathlib import Path\n",
    "from typing import Dict, List, Optional, Tuple, Union\n",
    "\n",
    "from src.data import VideoDataset, create_dataloaders\n",
    "from src.models import SignLanguageCNNLSTM, VideoTransformer, CNNLSTMConfig, TransformerConfig\n",
    "from src.training import Trainer, TrainerConfig\n",
    "from src.visualization import RealTimeInference\n",
    "from src.config import PROCESSED_DIR, DATA_CONFIG\n",
    "\n",
    "%matplotlib inline"
   ]
  },
  {
   "cell_type": "markdown",
   "metadata": {},
   "source": [
    "## Data Loading and Preprocessing"
   ]
  },
  {
   "cell_type": "code",
   "execution_count": 2,
   "metadata": {},
   "outputs": [
    {
     "name": "stdout",
     "output_type": "stream",
     "text": [
      "Initial data load:\n",
      "Total videos: 6\n",
      "\n",
      "After filtering failed entries:\n",
      "Remaining videos: 0\n",
      "\n",
      "Verifying data structure...\n",
      "All required fields present\n",
      "\n",
      "Number of unique classes: 0\n",
      "\n",
      "Data split proportions:\n",
      "Train: 70.00%\n",
      "Validation: 15.00%\n",
      "Test: 15.00%\n",
      "\n",
      "Expected split sizes:\n",
      "Train: 0\n",
      "Validation: 0\n",
      "Test: 0\n"
     ]
    },
    {
     "ename": "ValueError",
     "evalue": "num_samples should be a positive integer value, but got num_samples=0",
     "output_type": "error",
     "traceback": [
      "\u001b[0;31m---------------------------------------------------------------------------\u001b[0m",
      "\u001b[0;31mValueError\u001b[0m                                Traceback (most recent call last)",
      "Cell \u001b[0;32mIn[2], line 58\u001b[0m\n\u001b[1;32m     55\u001b[0m \u001b[38;5;28mprint\u001b[39m(\u001b[38;5;124mf\u001b[39m\u001b[38;5;124m\"\u001b[39m\u001b[38;5;124mTest: \u001b[39m\u001b[38;5;132;01m{\u001b[39;00mexpected_test\u001b[38;5;132;01m}\u001b[39;00m\u001b[38;5;124m\"\u001b[39m)\n\u001b[1;32m     57\u001b[0m \u001b[38;5;66;03m# Create dataloaders\u001b[39;00m\n\u001b[0;32m---> 58\u001b[0m train_loader, val_loader, test_loader \u001b[38;5;241m=\u001b[39m \u001b[43mcreate_dataloaders\u001b[49m\u001b[43m(\u001b[49m\n\u001b[1;32m     59\u001b[0m \u001b[43m    \u001b[49m\u001b[43mvideo_data\u001b[49m\u001b[38;5;241;43m=\u001b[39;49m\u001b[43mvideo_data\u001b[49m\u001b[43m,\u001b[49m\n\u001b[1;32m     60\u001b[0m \u001b[43m    \u001b[49m\u001b[43mclass_mapping\u001b[49m\u001b[38;5;241;43m=\u001b[39;49m\u001b[43mclass_mapping\u001b[49m\u001b[43m,\u001b[49m\n\u001b[1;32m     61\u001b[0m \u001b[43m    \u001b[49m\u001b[43mbatch_size\u001b[49m\u001b[38;5;241;43m=\u001b[39;49m\u001b[43mDATA_CONFIG\u001b[49m\u001b[43m[\u001b[49m\u001b[38;5;124;43m'\u001b[39;49m\u001b[38;5;124;43mbatch_size\u001b[39;49m\u001b[38;5;124;43m'\u001b[39;49m\u001b[43m]\u001b[49m\n\u001b[1;32m     62\u001b[0m \u001b[43m)\u001b[49m\n\u001b[1;32m     64\u001b[0m \u001b[38;5;28mprint\u001b[39m(\u001b[38;5;124mf\u001b[39m\u001b[38;5;124m\"\u001b[39m\u001b[38;5;130;01m\\n\u001b[39;00m\u001b[38;5;124mActual split sizes:\u001b[39m\u001b[38;5;124m\"\u001b[39m)\n\u001b[1;32m     65\u001b[0m \u001b[38;5;28mprint\u001b[39m(\u001b[38;5;124mf\u001b[39m\u001b[38;5;124m\"\u001b[39m\u001b[38;5;124mTrain: \u001b[39m\u001b[38;5;132;01m{\u001b[39;00m\u001b[38;5;28mlen\u001b[39m(train_loader\u001b[38;5;241m.\u001b[39mdataset)\u001b[38;5;132;01m}\u001b[39;00m\u001b[38;5;124m\"\u001b[39m)\n",
      "File \u001b[0;32m/media/yasir/D/sign language/src/data/loader.py:211\u001b[0m, in \u001b[0;36mcreate_dataloaders\u001b[0;34m(video_data, class_mapping, batch_size, num_workers, train_split, val_split)\u001b[0m\n\u001b[1;32m    204\u001b[0m test_dataset \u001b[38;5;241m=\u001b[39m VideoDataset(\n\u001b[1;32m    205\u001b[0m     test_data,\n\u001b[1;32m    206\u001b[0m     class_mapping,\n\u001b[1;32m    207\u001b[0m     training\u001b[38;5;241m=\u001b[39m\u001b[38;5;28;01mFalse\u001b[39;00m\n\u001b[1;32m    208\u001b[0m )\n\u001b[1;32m    210\u001b[0m \u001b[38;5;66;03m# Create dataloaders\u001b[39;00m\n\u001b[0;32m--> 211\u001b[0m train_loader \u001b[38;5;241m=\u001b[39m \u001b[43mDataLoader\u001b[49m\u001b[43m(\u001b[49m\n\u001b[1;32m    212\u001b[0m \u001b[43m    \u001b[49m\u001b[43mtrain_dataset\u001b[49m\u001b[43m,\u001b[49m\n\u001b[1;32m    213\u001b[0m \u001b[43m    \u001b[49m\u001b[43mbatch_size\u001b[49m\u001b[38;5;241;43m=\u001b[39;49m\u001b[43mbatch_size\u001b[49m\u001b[43m,\u001b[49m\n\u001b[1;32m    214\u001b[0m \u001b[43m    \u001b[49m\u001b[43mshuffle\u001b[49m\u001b[38;5;241;43m=\u001b[39;49m\u001b[38;5;28;43;01mTrue\u001b[39;49;00m\u001b[43m,\u001b[49m\n\u001b[1;32m    215\u001b[0m \u001b[43m    \u001b[49m\u001b[43mnum_workers\u001b[49m\u001b[38;5;241;43m=\u001b[39;49m\u001b[43mnum_workers\u001b[49m\u001b[43m,\u001b[49m\n\u001b[1;32m    216\u001b[0m \u001b[43m    \u001b[49m\u001b[43mpin_memory\u001b[49m\u001b[38;5;241;43m=\u001b[39;49m\u001b[38;5;28;43;01mTrue\u001b[39;49;00m\n\u001b[1;32m    217\u001b[0m \u001b[43m\u001b[49m\u001b[43m)\u001b[49m\n\u001b[1;32m    218\u001b[0m val_loader \u001b[38;5;241m=\u001b[39m DataLoader(\n\u001b[1;32m    219\u001b[0m     val_dataset,\n\u001b[1;32m    220\u001b[0m     batch_size\u001b[38;5;241m=\u001b[39mbatch_size,\n\u001b[0;32m   (...)\u001b[0m\n\u001b[1;32m    223\u001b[0m     pin_memory\u001b[38;5;241m=\u001b[39m\u001b[38;5;28;01mTrue\u001b[39;00m\n\u001b[1;32m    224\u001b[0m )\n\u001b[1;32m    225\u001b[0m test_loader \u001b[38;5;241m=\u001b[39m DataLoader(\n\u001b[1;32m    226\u001b[0m     test_dataset,\n\u001b[1;32m    227\u001b[0m     batch_size\u001b[38;5;241m=\u001b[39mbatch_size,\n\u001b[0;32m   (...)\u001b[0m\n\u001b[1;32m    230\u001b[0m     pin_memory\u001b[38;5;241m=\u001b[39m\u001b[38;5;28;01mTrue\u001b[39;00m\n\u001b[1;32m    231\u001b[0m )\n",
      "File \u001b[0;32m~/miniconda3/lib/python3.12/site-packages/torch/utils/data/dataloader.py:383\u001b[0m, in \u001b[0;36mDataLoader.__init__\u001b[0;34m(self, dataset, batch_size, shuffle, sampler, batch_sampler, num_workers, collate_fn, pin_memory, drop_last, timeout, worker_init_fn, multiprocessing_context, generator, prefetch_factor, persistent_workers, pin_memory_device, in_order)\u001b[0m\n\u001b[1;32m    381\u001b[0m \u001b[38;5;28;01melse\u001b[39;00m:  \u001b[38;5;66;03m# map-style\u001b[39;00m\n\u001b[1;32m    382\u001b[0m     \u001b[38;5;28;01mif\u001b[39;00m shuffle:\n\u001b[0;32m--> 383\u001b[0m         sampler \u001b[38;5;241m=\u001b[39m \u001b[43mRandomSampler\u001b[49m\u001b[43m(\u001b[49m\u001b[43mdataset\u001b[49m\u001b[43m,\u001b[49m\u001b[43m \u001b[49m\u001b[43mgenerator\u001b[49m\u001b[38;5;241;43m=\u001b[39;49m\u001b[43mgenerator\u001b[49m\u001b[43m)\u001b[49m  \u001b[38;5;66;03m# type: ignore[arg-type]\u001b[39;00m\n\u001b[1;32m    384\u001b[0m     \u001b[38;5;28;01melse\u001b[39;00m:\n\u001b[1;32m    385\u001b[0m         sampler \u001b[38;5;241m=\u001b[39m SequentialSampler(dataset)  \u001b[38;5;66;03m# type: ignore[arg-type]\u001b[39;00m\n",
      "File \u001b[0;32m~/miniconda3/lib/python3.12/site-packages/torch/utils/data/sampler.py:165\u001b[0m, in \u001b[0;36mRandomSampler.__init__\u001b[0;34m(self, data_source, replacement, num_samples, generator)\u001b[0m\n\u001b[1;32m    160\u001b[0m     \u001b[38;5;28;01mraise\u001b[39;00m \u001b[38;5;167;01mTypeError\u001b[39;00m(\n\u001b[1;32m    161\u001b[0m         \u001b[38;5;124mf\u001b[39m\u001b[38;5;124m\"\u001b[39m\u001b[38;5;124mreplacement should be a boolean value, but got replacement=\u001b[39m\u001b[38;5;132;01m{\u001b[39;00m\u001b[38;5;28mself\u001b[39m\u001b[38;5;241m.\u001b[39mreplacement\u001b[38;5;132;01m}\u001b[39;00m\u001b[38;5;124m\"\u001b[39m\n\u001b[1;32m    162\u001b[0m     )\n\u001b[1;32m    164\u001b[0m \u001b[38;5;28;01mif\u001b[39;00m \u001b[38;5;129;01mnot\u001b[39;00m \u001b[38;5;28misinstance\u001b[39m(\u001b[38;5;28mself\u001b[39m\u001b[38;5;241m.\u001b[39mnum_samples, \u001b[38;5;28mint\u001b[39m) \u001b[38;5;129;01mor\u001b[39;00m \u001b[38;5;28mself\u001b[39m\u001b[38;5;241m.\u001b[39mnum_samples \u001b[38;5;241m<\u001b[39m\u001b[38;5;241m=\u001b[39m \u001b[38;5;241m0\u001b[39m:\n\u001b[0;32m--> 165\u001b[0m     \u001b[38;5;28;01mraise\u001b[39;00m \u001b[38;5;167;01mValueError\u001b[39;00m(\n\u001b[1;32m    166\u001b[0m         \u001b[38;5;124mf\u001b[39m\u001b[38;5;124m\"\u001b[39m\u001b[38;5;124mnum_samples should be a positive integer value, but got num_samples=\u001b[39m\u001b[38;5;132;01m{\u001b[39;00m\u001b[38;5;28mself\u001b[39m\u001b[38;5;241m.\u001b[39mnum_samples\u001b[38;5;132;01m}\u001b[39;00m\u001b[38;5;124m\"\u001b[39m\n\u001b[1;32m    167\u001b[0m     )\n",
      "\u001b[0;31mValueError\u001b[0m: num_samples should be a positive integer value, but got num_samples=0"
     ]
    }
   ],
   "source": [
    "# Load preprocessed data\n",
    "preprocessed_path = PROCESSED_DIR / 'preprocessing_results.json'\n",
    "with open(preprocessed_path, 'r') as f:\n",
    "    video_data = json.load(f)\n",
    "\n",
    "print(\"Initial data load:\")\n",
    "print(f\"Total videos: {len(video_data)}\")\n",
    "\n",
    "# Filter out failed preprocessing entries and verify data structure\n",
    "video_data = [v for v in video_data if v.get('success', False)]\n",
    "\n",
    "print(f\"\\nAfter filtering failed entries:\")\n",
    "print(f\"Remaining videos: {len(video_data)}\")\n",
    "\n",
    "# Verify data structure\n",
    "print(\"\\nVerifying data structure...\")\n",
    "required_fields = ['gloss', 'frame_paths', 'bbox']\n",
    "missing_fields = []\n",
    "for field in required_fields:\n",
    "    if not all(field in v for v in video_data):\n",
    "        missing_fields.append(field)\n",
    "\n",
    "if missing_fields:\n",
    "    print(f\"Warning: Missing required fields: {missing_fields}\")\n",
    "    print(\"\\nSample entry:\")\n",
    "    print(json.dumps(video_data[0], indent=2))\n",
    "else:\n",
    "    print(\"All required fields present\")\n",
    "\n",
    "# Create class mapping\n",
    "unique_glosses = sorted(list({v['gloss'] for v in video_data}))\n",
    "class_mapping = {gloss: idx for idx, gloss in enumerate(unique_glosses)}\n",
    "\n",
    "print(f\"\\nNumber of unique classes: {len(class_mapping)}\")\n",
    "\n",
    "# Create data loaders with debugging\n",
    "train_split = DATA_CONFIG['train_split']\n",
    "val_split = DATA_CONFIG['val_split']\n",
    "test_split = 1.0 - train_split - val_split\n",
    "\n",
    "print(f\"\\nData split proportions:\")\n",
    "print(f\"Train: {train_split:.2%}\")\n",
    "print(f\"Validation: {val_split:.2%}\")\n",
    "print(f\"Test: {test_split:.2%}\")\n",
    "\n",
    "# Expected split sizes\n",
    "total_samples = len(video_data)\n",
    "expected_train = int(total_samples * train_split)\n",
    "expected_val = int(total_samples * val_split)\n",
    "expected_test = total_samples - expected_train - expected_val\n",
    "\n",
    "print(f\"\\nExpected split sizes:\")\n",
    "print(f\"Train: {expected_train}\")\n",
    "print(f\"Validation: {expected_val}\")\n",
    "print(f\"Test: {expected_test}\")\n",
    "\n",
    "# Create dataloaders\n",
    "train_loader, val_loader, test_loader = create_dataloaders(\n",
    "    video_data=video_data,\n",
    "    class_mapping=class_mapping,\n",
    "    batch_size=DATA_CONFIG['batch_size']\n",
    ")\n",
    "\n",
    "print(f\"\\nActual split sizes:\")\n",
    "print(f\"Train: {len(train_loader.dataset)}\")\n",
    "print(f\"Validation: {len(val_loader.dataset)}\")\n",
    "print(f\"Test: {len(test_loader.dataset)}\")\n",
    "\n",
    "# Verify dataloaders\n",
    "print(\"\\nVerifying dataloaders...\")\n",
    "try:\n",
    "    print(\"Checking training loader:\")\n",
    "    train_batch = next(iter(train_loader))\n",
    "    print(f\"Training batch shapes:\")\n",
    "    print(f\"Frames: {train_batch[0].shape}\")\n",
    "    print(f\"Labels: {train_batch[1][0].shape}\")\n",
    "    print(f\"Bboxes: {train_batch[1][1].shape}\")\n",
    "    \n",
    "    print(\"\\nChecking validation loader:\")\n",
    "    val_batch = next(iter(val_loader))\n",
    "    print(f\"Validation batch shapes:\")\n",
    "    print(f\"Frames: {val_batch[0].shape}\")\n",
    "    print(f\"Labels: {val_batch[1][0].shape}\")\n",
    "    print(f\"Bboxes: {val_batch[1][1].shape}\")\n",
    "except Exception as e:\n",
    "    print(f\"Error loading batch: {str(e)}\")"
   ]
  },
  {
   "cell_type": "code",
   "execution_count": null,
   "metadata": {},
   "outputs": [],
   "source": [
    "# Training configuration\n",
    "device = torch.device('cuda' if torch.cuda.is_available() else 'cpu')\n",
    "print(f\"Using device: {device}\")\n",
    "\n",
    "trainer_config = TrainerConfig(\n",
    "    num_epochs=50,\n",
    "    learning_rate=1e-4,\n",
    "    use_wandb=False\n",
    ")\n",
    "\n",
    "# Initialize model\n",
    "print(\"\\nInitializing CNN-LSTM model...\")\n",
    "cnn_lstm_config = CNNLSTMConfig(num_classes=len(class_mapping))\n",
    "cnn_lstm = SignLanguageCNNLSTM(cnn_lstm_config).to(device)\n",
    "\n",
    "# Only proceed with training if validation data exists\n",
    "if len(val_loader.dataset) > 0:\n",
    "    trainer = Trainer(cnn_lstm, trainer_config)\n",
    "    print(\"\\nStarting CNN-LSTM training...\")\n",
    "    cnn_lstm_history = trainer.train(train_loader, val_loader)\n",
    "else:\n",
    "    print(\"\\nError: No validation data available. Cannot proceed with training.\")"
   ]
  }
 ],
 "metadata": {
  "kernelspec": {
   "display_name": "base",
   "language": "python",
   "name": "python3"
  },
  "language_info": {
   "codemirror_mode": {
    "name": "ipython",
    "version": 3
   },
   "file_extension": ".py",
   "mimetype": "text/x-python",
   "name": "python",
   "nbconvert_exporter": "python",
   "pygments_lexer": "ipython3",
   "version": "3.12.2"
  }
 },
 "nbformat": 4,
 "nbformat_minor": 4
}
